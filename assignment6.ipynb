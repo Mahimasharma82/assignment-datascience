{
 "cells": [
  {
   "cell_type": "markdown",
   "id": "47d39ef3-afea-4274-a272-7b658787cb6c",
   "metadata": {},
   "source": [
    "Q1, Create a vehicle class with an init method having instance variables as name_of_vehicle, max_speed\n",
    "and average_of_vehicle."
   ]
  },
  {
   "cell_type": "code",
   "execution_count": 1,
   "id": "532f960b-edf7-44dc-81c3-43adc7d0e548",
   "metadata": {},
   "outputs": [],
   "source": [
    "##creating a class naming vehicle class\n",
    "class vehicle_class():\n",
    "    ##using init method\n",
    "    def __init__(self,name_of_vehicle,max_speed,average_of_vehicle):\n",
    "        ##instance variable\n",
    "        self.__name_of_vehicle=name_of_vehicle\n",
    "        self.__max_speed=max_speed\n",
    "        self.__average_of_vehicle=average_of_vehicle\n",
    "    "
   ]
  },
  {
   "cell_type": "markdown",
   "id": "f6bbe711-cfcd-4345-b604-8201d66c5dcc",
   "metadata": {},
   "source": [
    "Q2. Create a child class car from the vehicle class created in Que 1, which will inherit the vehicle class.\n",
    "Create a method named seating_capacity which takes capacity as an argument and returns the name of\n",
    "the vehicle and its seating capacity."
   ]
  },
  {
   "cell_type": "code",
   "execution_count": 3,
   "id": "7f23f719-d47f-4236-a442-7e4bc594e999",
   "metadata": {},
   "outputs": [],
   "source": [
    "##child class car which will inherit the vehicle class\n",
    "class child_class_car(vehicle_class):\n",
    "    ##creating a method\n",
    "    def __init__(self,seating_capacity):\n",
    "        self.__seating_capacity=seating_capacity\n",
    "        self.__name_of_vehicle=name_of_vehicle"
   ]
  },
  {
   "cell_type": "markdown",
   "id": "dd2dff41-eb45-4827-b52b-1ece12c82aa5",
   "metadata": {},
   "source": [
    "Q3. What is multiple inheritance? Write a python code to demonstrate multiple inheritance.\n",
    "ans. multiple inheritance is a inheritance in which we have two parent classs and they will inherit their property in one child class."
   ]
  },
  {
   "cell_type": "code",
   "execution_count": 10,
   "id": "c7352eec-d9fe-45db-bb78-26f82ca3d4a5",
   "metadata": {},
   "outputs": [],
   "source": [
    "##1st parentclass\n",
    "class parent1():\n",
    "    def test1(self):\n",
    "        return \"this is my 1st parent class\""
   ]
  },
  {
   "cell_type": "code",
   "execution_count": 11,
   "id": "83f17414-e275-41ff-92b8-ff1ddd94d062",
   "metadata": {},
   "outputs": [],
   "source": [
    "##2nd parentclass\n",
    "class parent2():\n",
    "    def test2(self):\n",
    "        return \"this is my 2nd parent class\""
   ]
  },
  {
   "cell_type": "code",
   "execution_count": 12,
   "id": "28236fa7-2ec2-4cb0-9b62-11e6d5c3f4cd",
   "metadata": {},
   "outputs": [],
   "source": [
    "##child class which will inherit the property of pareents class\n",
    "class child(parent1,parent2):\n",
    "    pass"
   ]
  },
  {
   "cell_type": "code",
   "execution_count": 13,
   "id": "a3b04155-b4cb-43f2-91dc-019faae34567",
   "metadata": {},
   "outputs": [],
   "source": [
    "myobj=child()"
   ]
  },
  {
   "cell_type": "code",
   "execution_count": 14,
   "id": "efa30e45-601f-46db-b477-571c1c77bbe1",
   "metadata": {},
   "outputs": [
    {
     "data": {
      "text/plain": [
       "'this is my 1st parent class'"
      ]
     },
     "execution_count": 14,
     "metadata": {},
     "output_type": "execute_result"
    }
   ],
   "source": [
    "myobj.test1()"
   ]
  },
  {
   "cell_type": "code",
   "execution_count": 15,
   "id": "b3fcb143-b436-4156-aa82-c28be9c9e72a",
   "metadata": {},
   "outputs": [
    {
     "data": {
      "text/plain": [
       "'this is my 2nd parent class'"
      ]
     },
     "execution_count": 15,
     "metadata": {},
     "output_type": "execute_result"
    }
   ],
   "source": [
    "myobj.test2()"
   ]
  },
  {
   "cell_type": "markdown",
   "id": "e68dbb57-d919-4340-b3de-7febf9b24a2e",
   "metadata": {},
   "source": [
    "Q4. What are getter and setter in python? Create a class and create a getter and a setter method in this\n",
    "class."
   ]
  },
  {
   "cell_type": "markdown",
   "id": "1f626bd9-b743-40f7-9c91-ceafb86e7c9a",
   "metadata": {},
   "source": [
    "ans. In Python, getters and setters are methods used to access and modify the private attributes of a class, respectively. They are a way to encapsulate the internal state of an object and control how it's accessed and modified from outside the class.\n",
    "\n",
    "Getter Method: A getter method is used to retrieve the value of a private attribute from outside the class. It provides controlled access to the attribute by returning its current value.\n",
    "\n",
    "Setter Method: A setter method is used to modify the value of a private attribute from outside the class. It provides controlled modification of the attribute by setting its new value."
   ]
  },
  {
   "cell_type": "code",
   "execution_count": 16,
   "id": "ac97c0fa-ee29-44ff-b4d4-2788abc8c1cc",
   "metadata": {},
   "outputs": [
    {
     "ename": "SyntaxError",
     "evalue": "invalid syntax (3366984406.py, line 6)",
     "output_type": "error",
     "traceback": [
      "\u001b[0;36m  Cell \u001b[0;32mIn[16], line 6\u001b[0;36m\u001b[0m\n\u001b[0;31m    def get_value\u001b[0m\n\u001b[0m                 ^\u001b[0m\n\u001b[0;31mSyntaxError\u001b[0m\u001b[0;31m:\u001b[0m invalid syntax\n"
     ]
    }
   ],
   "source": [
    "class MyClass:\n",
    "    def __init__(self):\n",
    "        self.__value = None  # Private attribute prefixed with double underscore\n",
    "\n",
    "    # Getter method to retrieve the value of the private attribute\n",
    "    def get_value\n"
   ]
  },
  {
   "cell_type": "markdown",
   "id": "86a2931e-7219-43bd-8629-5edf33f50ae8",
   "metadata": {},
   "source": [
    "Q5.What is method overriding in python? Write a python code to demonstrate method overriding."
   ]
  },
  {
   "cell_type": "markdown",
   "id": "d7a933a1-771b-4578-87b9-281da76887c7",
   "metadata": {},
   "source": [
    "ans. Method overriding in Python occurs when a subclass provides a specific implementation of a method that is already defined in its superclass. This allows the subclass to customize or extend the behavior of the method inherited from the superclass."
   ]
  },
  {
   "cell_type": "code",
   "execution_count": 17,
   "id": "5ab91b1f-3fa6-4d53-8cd5-2a4d6893490a",
   "metadata": {},
   "outputs": [
    {
     "name": "stdout",
     "output_type": "stream",
     "text": [
      "Woof! Woof!\n",
      "Meow\n"
     ]
    }
   ],
   "source": [
    "class Animal:\n",
    "    def sound(self):\n",
    "        print(\"Generic animal sound\")\n",
    "\n",
    "class Dog(Animal):\n",
    "    def sound(self):\n",
    "        print(\"Woof! Woof!\")\n",
    "\n",
    "class Cat(Animal):\n",
    "    def sound(self):\n",
    "        print(\"Meow\")\n",
    "\n",
    "# Create instances of Dog and Cat\n",
    "dog = Dog()\n",
    "cat = Cat()\n",
    "\n",
    "# Call the sound method for each instance\n",
    "dog.sound()  # Output: Woof! Woof!\n",
    "cat.sound()  # Output: Meow\n"
   ]
  },
  {
   "cell_type": "code",
   "execution_count": null,
   "id": "1499fcf7-3ab2-4eed-8c23-e9244433985a",
   "metadata": {},
   "outputs": [],
   "source": []
  },
  {
   "cell_type": "code",
   "execution_count": null,
   "id": "2f19d62e-7112-43b2-ae86-db8f8f1f24bc",
   "metadata": {},
   "outputs": [],
   "source": []
  },
  {
   "cell_type": "code",
   "execution_count": null,
   "id": "83365bfa-5360-42cc-bc9a-ba680a18fa0d",
   "metadata": {},
   "outputs": [],
   "source": []
  },
  {
   "cell_type": "code",
   "execution_count": null,
   "id": "6969f275-9ded-4b7f-9568-e495392289a7",
   "metadata": {},
   "outputs": [],
   "source": []
  },
  {
   "cell_type": "code",
   "execution_count": null,
   "id": "674dd943-e1e3-4b51-a4d4-9e5ce7b77e24",
   "metadata": {},
   "outputs": [],
   "source": []
  },
  {
   "cell_type": "code",
   "execution_count": null,
   "id": "5ee038e8-73f2-4f71-bd22-23fca8f23242",
   "metadata": {},
   "outputs": [],
   "source": []
  },
  {
   "cell_type": "code",
   "execution_count": null,
   "id": "33a0443e-9317-49f6-953e-17cab2b6a0fd",
   "metadata": {},
   "outputs": [],
   "source": []
  },
  {
   "cell_type": "code",
   "execution_count": null,
   "id": "2bd62890-8294-4a9a-b1c3-1f9d351a72a8",
   "metadata": {},
   "outputs": [],
   "source": []
  },
  {
   "cell_type": "code",
   "execution_count": null,
   "id": "31b7f4ce-68a9-4a60-ac19-5590946e98fd",
   "metadata": {},
   "outputs": [],
   "source": []
  },
  {
   "cell_type": "code",
   "execution_count": null,
   "id": "5fa18e98-517a-4bba-b3b1-454081777ba2",
   "metadata": {},
   "outputs": [],
   "source": []
  },
  {
   "cell_type": "code",
   "execution_count": null,
   "id": "155b99f2-95d1-483d-85b5-24fa6c7aef15",
   "metadata": {},
   "outputs": [],
   "source": []
  },
  {
   "cell_type": "code",
   "execution_count": null,
   "id": "c3625137-5f43-4e72-909d-5678a4d9b068",
   "metadata": {},
   "outputs": [],
   "source": []
  },
  {
   "cell_type": "code",
   "execution_count": null,
   "id": "62c73e4e-cf13-4482-864c-0e4a34622e73",
   "metadata": {},
   "outputs": [],
   "source": []
  },
  {
   "cell_type": "code",
   "execution_count": null,
   "id": "7269e2f8-f932-4840-9cd2-6d46ac90d1b4",
   "metadata": {},
   "outputs": [],
   "source": []
  },
  {
   "cell_type": "code",
   "execution_count": null,
   "id": "c4d63c6d-f24f-4a1d-8e42-f6ce1998f5ec",
   "metadata": {},
   "outputs": [],
   "source": []
  },
  {
   "cell_type": "code",
   "execution_count": null,
   "id": "690ecbaf-12e0-4f71-8c22-80145178bbc0",
   "metadata": {},
   "outputs": [],
   "source": []
  }
 ],
 "metadata": {
  "kernelspec": {
   "display_name": "Python 3 (ipykernel)",
   "language": "python",
   "name": "python3"
  },
  "language_info": {
   "codemirror_mode": {
    "name": "ipython",
    "version": 3
   },
   "file_extension": ".py",
   "mimetype": "text/x-python",
   "name": "python",
   "nbconvert_exporter": "python",
   "pygments_lexer": "ipython3",
   "version": "3.10.8"
  }
 },
 "nbformat": 4,
 "nbformat_minor": 5
}
