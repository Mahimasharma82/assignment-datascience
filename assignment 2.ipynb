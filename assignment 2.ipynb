{
 "cells": [
  {
   "cell_type": "markdown",
   "id": "2c3f4d7e-36d0-498a-a376-abc9fbab0ddd",
   "metadata": {},
   "source": [
    "Q1. Which keyword is used to create a function? Create a function to return a list of odd numbers in the\n",
    "range of 1 to 25.\n",
    "ans. def keyword is used to create a function."
   ]
  },
  {
   "cell_type": "code",
   "execution_count": 25,
   "id": "0de0c76c-6ecb-4e84-b0c3-9faab1ae6130",
   "metadata": {},
   "outputs": [],
   "source": [
    "def test1(a):\n",
    "    n=[]\n",
    "    for i in a:\n",
    "        if i%2!=0:\n",
    "            n.append(i)\n",
    "    return n"
   ]
  },
  {
   "cell_type": "code",
   "execution_count": 18,
   "id": "e2b9659b-aa6b-4e79-89d3-9150918fdecd",
   "metadata": {},
   "outputs": [],
   "source": [
    "l=list(range(1,26))"
   ]
  },
  {
   "cell_type": "code",
   "execution_count": 26,
   "id": "af80fc01-88a7-469a-ab4b-ed88552c6c50",
   "metadata": {},
   "outputs": [
    {
     "data": {
      "text/plain": [
       "[1, 3, 5, 7, 9, 11, 13, 15, 17, 19, 21, 23, 25]"
      ]
     },
     "execution_count": 26,
     "metadata": {},
     "output_type": "execute_result"
    }
   ],
   "source": [
    "test1(l)"
   ]
  },
  {
   "cell_type": "markdown",
   "id": "d9709c43-d9db-461b-8f84-3092a2ccfc40",
   "metadata": {},
   "source": [
    "Q2. Why *args and **kwargs is used in some functions? Create a function each for *args and **kwargs to\n",
    "demonstrate their use.\n",
    "ans. *args and **kwargs is used in some function so we don't have to worry with the number of arguments.**kwargs is used for keys and their meaning(dictionary)."
   ]
  },
  {
   "cell_type": "code",
   "execution_count": 32,
   "id": "66410b63-cc59-4133-8691-626469968ddb",
   "metadata": {},
   "outputs": [],
   "source": [
    "def test2(*args,**kwargs):\n",
    "    return args,kwargs\n"
   ]
  },
  {
   "cell_type": "code",
   "execution_count": 28,
   "id": "2a4c4c40-90dc-4c89-a05a-c6b41f73fd23",
   "metadata": {},
   "outputs": [],
   "source": [
    "l=1,2,3,4,[\"pw_skiils\",\"data_science\"],\"machine_learning\",[5,6,7,8]"
   ]
  },
  {
   "cell_type": "code",
   "execution_count": 33,
   "id": "06fc5343-26e9-4831-bac2-e8dd43b49d6c",
   "metadata": {},
   "outputs": [
    {
     "data": {
      "text/plain": [
       "(((1,\n",
       "   2,\n",
       "   3,\n",
       "   4,\n",
       "   ['pw_skiils', 'data_science'],\n",
       "   'machine_learning',\n",
       "   [5, 6, 7, 8]),),\n",
       " {})"
      ]
     },
     "execution_count": 33,
     "metadata": {},
     "output_type": "execute_result"
    }
   ],
   "source": [
    "test2(l)"
   ]
  },
  {
   "cell_type": "markdown",
   "id": "20dfc464-152a-4943-aa0d-e5daeaedf16a",
   "metadata": {},
   "source": [
    "Q3. What is an iterator in python? Name the method used to initialise the iterator object and the method\n",
    "used for iteration. Use these methods to print the first five elements of the given list [2, 4, 6, 8, 10, 12, 14, 16,\n",
    "18, 20].\n",
    "ans. In Python, an iterator is an object that implements the iterator protocol, which consists of two methods:\n",
    "\n",
    "__iter__(): This method initializes the iterator object. It returns the iterator object itself.\n",
    "__next__(): This method is used for iteration. It returns the next item from the iterator. When there are no more items, it raises the StopIteration exception."
   ]
  },
  {
   "cell_type": "markdown",
   "id": "6eaad687-b641-4f0c-88a2-4ef436bd6a2a",
   "metadata": {},
   "source": [
    "Q4. What is a generator function in python? Why yield keyword is used? Give an example of a generator\n",
    "function.\n",
    "ans. generator function in python is used to save the main memory,it saves the memory because it does not remember the previous output.\n",
    "yield is used to print the output."
   ]
  },
  {
   "cell_type": "code",
   "execution_count": 2,
   "id": "2fdf14a8-0896-4351-9996-4d397a0a4d94",
   "metadata": {},
   "outputs": [],
   "source": [
    "##example of generator function\n",
    "def test_fibo(n):\n",
    "    a,b=0,1\n",
    "    for i in range(n):\n",
    "        yield a\n",
    "        a,b=b,a+b"
   ]
  },
  {
   "cell_type": "code",
   "execution_count": 3,
   "id": "42ba0d9a-4938-4019-81f5-c6828187e8e1",
   "metadata": {},
   "outputs": [
    {
     "name": "stdout",
     "output_type": "stream",
     "text": [
      "0\n",
      "1\n",
      "1\n",
      "2\n",
      "3\n",
      "5\n",
      "8\n",
      "13\n",
      "21\n",
      "34\n"
     ]
    }
   ],
   "source": [
    "for i in test_fibo(10):\n",
    "    print(i)"
   ]
  },
  {
   "cell_type": "code",
   "execution_count": null,
   "id": "b6569e4c-0a19-4b0b-abb6-3fa3c1dd1b42",
   "metadata": {},
   "outputs": [],
   "source": []
  }
 ],
 "metadata": {
  "kernelspec": {
   "display_name": "Python 3 (ipykernel)",
   "language": "python",
   "name": "python3"
  },
  "language_info": {
   "codemirror_mode": {
    "name": "ipython",
    "version": 3
   },
   "file_extension": ".py",
   "mimetype": "text/x-python",
   "name": "python",
   "nbconvert_exporter": "python",
   "pygments_lexer": "ipython3",
   "version": "3.10.8"
  }
 },
 "nbformat": 4,
 "nbformat_minor": 5
}
