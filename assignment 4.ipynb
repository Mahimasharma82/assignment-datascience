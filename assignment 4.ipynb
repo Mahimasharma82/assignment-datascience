{
 "cells": [
  {
   "cell_type": "markdown",
   "id": "fccc26b8-38d8-4fe2-9448-76500542f516",
   "metadata": {},
   "source": [
    "Q1. Explain Class and Object with respect to Object-Oriented Programming. Give a suitable example.\n",
    "ans. class is a real life approach.with the help of class we can make our code reusable,easy to understand and it also help us in memory.\n",
    "object is a instance of class and object is also a real life entity.In simple words it is just a variable that we define in our class."
   ]
  },
  {
   "cell_type": "code",
   "execution_count": 1,
   "id": "c3dddbbe-52c2-4454-a666-873b846a62a4",
   "metadata": {},
   "outputs": [],
   "source": [
    "##example\n",
    "class test():\n",
    "    a=\"hello\""
   ]
  },
  {
   "cell_type": "markdown",
   "id": "603ac5a5-3390-4c15-9d1a-e17eef833b19",
   "metadata": {},
   "source": [
    "Q2. Name the four pillars of OOPs.\n",
    "ans. the four pillars of oops are\n",
    "1.class\n",
    "2.object\n",
    "3.inheritance\n",
    "4.polymorphism"
   ]
  },
  {
   "cell_type": "markdown",
   "id": "e4557aa6-a193-4067-aae3-414e9e64fe1a",
   "metadata": {},
   "source": [
    "Q3. Explain why the __init__() function is used. Give a suitable example.\n",
    "ans.__init__() it is known as constructor and it is used for printing a data while creating object."
   ]
  },
  {
   "cell_type": "code",
   "execution_count": 2,
   "id": "6606a6dc-ba3f-4bfa-bfdb-95c97d11648a",
   "metadata": {},
   "outputs": [],
   "source": [
    "##example of constructor\n",
    "class pwskills():\n",
    "    def __init__(self,phone_number,email_id,student_id):\n",
    "        self.phone_number = phone_number\n",
    "        self.email_id = email_id\n",
    "        self.student_id = student_id\n",
    "        \n",
    "    def  return_student_detail(self) :\n",
    "        return self.phone_number,self.email_id,self.student_id\n",
    "    \n",
    "    "
   ]
  },
  {
   "cell_type": "markdown",
   "id": "ba33487b-9e30-403c-b91b-9c29c6d569d3",
   "metadata": {},
   "source": [
    "Q4. Why self is used in OOPs?"
   ]
  },
  {
   "cell_type": "code",
   "execution_count": null,
   "id": "4a868320-8453-4dc8-8b94-a12fed64f3a7",
   "metadata": {},
   "outputs": [],
   "source": []
  },
  {
   "cell_type": "code",
   "execution_count": null,
   "id": "db9dfde4-68de-4c08-97e0-bb1b0e9a8a5e",
   "metadata": {},
   "outputs": [],
   "source": []
  },
  {
   "cell_type": "code",
   "execution_count": null,
   "id": "06ed819d-0f55-46d7-a479-2793b9cee626",
   "metadata": {},
   "outputs": [],
   "source": []
  },
  {
   "cell_type": "code",
   "execution_count": null,
   "id": "ff256fc8-858c-4df3-abaa-359eefe5e6f1",
   "metadata": {},
   "outputs": [],
   "source": []
  },
  {
   "cell_type": "code",
   "execution_count": null,
   "id": "8b2b7cde-e193-4b58-ab9f-48ee198d74dd",
   "metadata": {},
   "outputs": [],
   "source": []
  },
  {
   "cell_type": "code",
   "execution_count": null,
   "id": "1691a492-5a2f-425f-ae2a-2026f0a11ad3",
   "metadata": {},
   "outputs": [],
   "source": []
  },
  {
   "cell_type": "code",
   "execution_count": null,
   "id": "77790aa9-83bc-4ea1-888f-e0195d41724f",
   "metadata": {},
   "outputs": [],
   "source": []
  },
  {
   "cell_type": "code",
   "execution_count": null,
   "id": "46073181-36cf-4efb-8e49-1f5713d07435",
   "metadata": {},
   "outputs": [],
   "source": []
  },
  {
   "cell_type": "code",
   "execution_count": null,
   "id": "b4ca4562-72fe-4d7c-960d-45d226e9b5ff",
   "metadata": {},
   "outputs": [],
   "source": []
  },
  {
   "cell_type": "code",
   "execution_count": null,
   "id": "dd64b4a4-eb35-4d6d-b83a-6f09124bcf59",
   "metadata": {},
   "outputs": [],
   "source": []
  },
  {
   "cell_type": "code",
   "execution_count": null,
   "id": "78b56777-9ef9-45b0-8fb1-6ad4b26e190e",
   "metadata": {},
   "outputs": [],
   "source": []
  },
  {
   "cell_type": "code",
   "execution_count": null,
   "id": "2e0940c0-ffff-4653-9de8-72f20ebbf2a1",
   "metadata": {},
   "outputs": [],
   "source": []
  },
  {
   "cell_type": "code",
   "execution_count": null,
   "id": "62cdb417-c300-4ebc-b430-3ca804b1b8b7",
   "metadata": {},
   "outputs": [],
   "source": []
  },
  {
   "cell_type": "code",
   "execution_count": null,
   "id": "77e4610c-8b6b-4c0e-afd1-8268d56b57d0",
   "metadata": {},
   "outputs": [],
   "source": []
  },
  {
   "cell_type": "code",
   "execution_count": null,
   "id": "cd87be76-91a7-4b77-bff2-157cf91f27bf",
   "metadata": {},
   "outputs": [],
   "source": []
  },
  {
   "cell_type": "code",
   "execution_count": null,
   "id": "828b6b9c-d8f9-41ce-bddd-c51eb22b42e0",
   "metadata": {},
   "outputs": [],
   "source": []
  }
 ],
 "metadata": {
  "kernelspec": {
   "display_name": "Python 3 (ipykernel)",
   "language": "python",
   "name": "python3"
  },
  "language_info": {
   "codemirror_mode": {
    "name": "ipython",
    "version": 3
   },
   "file_extension": ".py",
   "mimetype": "text/x-python",
   "name": "python",
   "nbconvert_exporter": "python",
   "pygments_lexer": "ipython3",
   "version": "3.10.8"
  }
 },
 "nbformat": 4,
 "nbformat_minor": 5
}
