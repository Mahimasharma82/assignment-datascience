{
 "cells": [
  {
   "cell_type": "markdown",
   "id": "f452f423-0ee1-44ad-a668-80bf84fbd66b",
   "metadata": {},
   "source": [
    "Q1. What are the characteristics of the tuples? Is tuple immutable?\n",
    "ans. characteristics of tuples\n",
    "1.tuple maintain the order of elements\n",
    "2.In tuple we can add any type of data types like int,float,decimal number,complex number,boolean number,strings.\n",
    "3.in tuples we also can use hashing method.\n",
    "4.in tyuple we can access the elements through indexing.\n",
    "5.tuple is immutable that means we cannot remove or add any element in tuple.\n",
    "\n",
    "yes,tuple is immutable."
   ]
  },
  {
   "cell_type": "markdown",
   "id": "83a01524-d5a2-487d-9cee-f80b2db57009",
   "metadata": {},
   "source": [
    "Q2. What are the two tuple methods in python? Give an example of each method. Give a reason why\n",
    "tuples have only two in-built methods as compared to Lists.\n",
    "ans. tuples are immutable in natue and lists are mutable in nature that's why list have more built in function.\n",
    "\n",
    "we can create tuple with two methods\n"
   ]
  },
  {
   "cell_type": "code",
   "execution_count": 5,
   "id": "3a7baeb5-9870-4a3e-a8d8-92d047aca1c4",
   "metadata": {},
   "outputs": [
    {
     "data": {
      "text/plain": [
       "('1', '2', 'apple', 'banana')"
      ]
     },
     "execution_count": 5,
     "metadata": {},
     "output_type": "execute_result"
    }
   ],
   "source": [
    "##1.with the paranthese()\n",
    "t1=(\"1\",\"2\",\"apple\",\"banana\")\n",
    "t1"
   ]
  },
  {
   "cell_type": "code",
   "execution_count": 6,
   "id": "f1a6e7ef-9825-4761-bedb-3feee1d6ebe9",
   "metadata": {},
   "outputs": [
    {
     "data": {
      "text/plain": [
       "('m', 'a', 'h', 'i', 'm', 'a')"
      ]
     },
     "execution_count": 6,
     "metadata": {},
     "output_type": "execute_result"
    }
   ],
   "source": [
    "## 2 with the tuple keyword\n",
    "name=\"mahima\"\n",
    "t2=tuple(name)\n",
    "t2"
   ]
  },
  {
   "cell_type": "markdown",
   "id": "6d065f2c-1c48-4e6b-9a66-9c38046be569",
   "metadata": {},
   "source": [
    "Q3. Which collection datatypes in python do not allow duplicate items? Write a code using a set to remove\n",
    "duplicates from the given list.\n",
    "ans. sets are the collection that not allowed duplicate items."
   ]
  },
  {
   "cell_type": "code",
   "execution_count": null,
   "id": "d5481e33-20b2-4c8b-b9c2-2f2cd0166f8c",
   "metadata": {},
   "outputs": [],
   "source": [
    "List = [1, 1, 1, 2, 1, 3, 1, 4, 2, 1, 2, 2, 2, 3, 2, 4, 3, 1, 3, 2, 3, 3, 3, 4, 4, 1, 4, 2, 4, 3, 4, 4]"
   ]
  },
  {
   "cell_type": "code",
   "execution_count": 10,
   "id": "f5a5e733-296e-4809-9868-81affd7228b4",
   "metadata": {},
   "outputs": [
    {
     "data": {
      "text/plain": [
       "{1, 2, 3, 4}"
      ]
     },
     "execution_count": 10,
     "metadata": {},
     "output_type": "execute_result"
    }
   ],
   "source": [
    "s1={1, 1, 1, 2, 1, 3, 1, 4, 2, 1, 2, 2, 2, 3, 2, 4, 3, 1, 3, 2, 3, 3, 3, 4, 4, 1, 4, 2, 4, 3, 4, 4}\n",
    "s1"
   ]
  },
  {
   "cell_type": "markdown",
   "id": "ec37964a-778d-473a-acfa-6445d1c91032",
   "metadata": {},
   "source": [
    "Q4. Explain the difference between the union() and update() methods for a set. Give an example of each method.\n",
    "ans.union is used to Return the union of sets as a new set and update is used to update the elements in set."
   ]
  },
  {
   "cell_type": "code",
   "execution_count": 17,
   "id": "a4f59534-5a82-44f1-83e9-77bd8f5e90de",
   "metadata": {},
   "outputs": [
    {
     "data": {
      "text/plain": [
       "{1, 2, 3, 4, 5}"
      ]
     },
     "execution_count": 17,
     "metadata": {},
     "output_type": "execute_result"
    }
   ],
   "source": [
    "s1={1,2,3,4,5}\n",
    "s1.union()"
   ]
  },
  {
   "cell_type": "code",
   "execution_count": 21,
   "id": "9ef2f7c8-1b4c-4974-bb1a-f44cd54947c3",
   "metadata": {},
   "outputs": [
    {
     "data": {
      "text/plain": [
       "{1, 2, 3, 4, 5, 65, 97, 'a', 'h', 'i', 'm'}"
      ]
     },
     "execution_count": 21,
     "metadata": {},
     "output_type": "execute_result"
    }
   ],
   "source": [
    "s1.update([65,97],\"mahima\")\n",
    "s1"
   ]
  },
  {
   "cell_type": "markdown",
   "id": "c5b7932a-3b72-467d-a314-64c88099dc3c",
   "metadata": {},
   "source": [
    "Q5. What is a dictionary? Give an example. Also, state whether a dictionary is ordered or unordered.\n",
    "ans.dictionary is a collection of keys and their corresponding meaning.In dictionary we should always have a unique value of keys. \n",
    "A dictionary is ordered."
   ]
  },
  {
   "cell_type": "markdown",
   "id": "8b6ca18d-9a1d-4c19-a771-8b93b615eabf",
   "metadata": {},
   "source": [
    "Q6. Can we create a nested dictionary? If so, please give an example by creating a simple one-level\n",
    "nested dictionary.\n",
    "ans. yes we can create a nested dictonary."
   ]
  },
  {
   "cell_type": "code",
   "execution_count": 29,
   "id": "080f49c4-a9d2-4dc9-ab03-59fa88daec3d",
   "metadata": {},
   "outputs": [],
   "source": [
    "d1={1:{1:\"a\",2:\"b\",3:\"c\"},\"abc\":\"fgh\"}"
   ]
  },
  {
   "cell_type": "code",
   "execution_count": 30,
   "id": "e122a3f0-009b-4e33-a449-381e8611d3ac",
   "metadata": {},
   "outputs": [
    {
     "data": {
      "text/plain": [
       "{1: {1: 'a', 2: 'b', 3: 'c'}, 'abc': 'fgh'}"
      ]
     },
     "execution_count": 30,
     "metadata": {},
     "output_type": "execute_result"
    }
   ],
   "source": [
    "d1"
   ]
  },
  {
   "cell_type": "markdown",
   "id": "85c932fe-85e7-493c-a021-c48e299e860d",
   "metadata": {},
   "source": [
    "Q7. Using setdefault() method, create key named topics in the given dictionary and also add the value of\n",
    "the key as this list ['Python', 'Machine Learning’, 'Deep Learning']"
   ]
  },
  {
   "cell_type": "code",
   "execution_count": 9,
   "id": "63b21a83-11d9-4c02-809a-5a69be380372",
   "metadata": {},
   "outputs": [],
   "source": [
    " topic={\"Python\":\"Easy\",\"Machine_Learning\":\"Difficult\",\"Deep_Learning\":\"Very_Difficult\"}"
   ]
  },
  {
   "cell_type": "code",
   "execution_count": 10,
   "id": "ce3b2baa-02eb-43fd-982d-cf89dc661669",
   "metadata": {},
   "outputs": [
    {
     "data": {
      "text/plain": [
       "{'Python': 'Easy',\n",
       " 'Machine_Learning': 'Difficult',\n",
       " 'Deep_Learning': 'Very_Difficult'}"
      ]
     },
     "execution_count": 10,
     "metadata": {},
     "output_type": "execute_result"
    }
   ],
   "source": [
    "topic"
   ]
  },
  {
   "cell_type": "code",
   "execution_count": 11,
   "id": "bddb6137-a1f2-4dbf-9610-37274a4855a5",
   "metadata": {},
   "outputs": [
    {
     "data": {
      "text/plain": [
       "'Easy'"
      ]
     },
     "execution_count": 11,
     "metadata": {},
     "output_type": "execute_result"
    }
   ],
   "source": [
    "topic.setdefault(\"Python\")"
   ]
  },
  {
   "cell_type": "code",
   "execution_count": 16,
   "id": "e3b5995f-3d15-4c54-ac6f-4c335c8b24b0",
   "metadata": {},
   "outputs": [
    {
     "data": {
      "text/plain": [
       "'Difficult'"
      ]
     },
     "execution_count": 16,
     "metadata": {},
     "output_type": "execute_result"
    }
   ],
   "source": [
    "topic.setdefault(\"Machine_Learning\")"
   ]
  },
  {
   "cell_type": "code",
   "execution_count": 18,
   "id": "e58a4dfd-b3ee-47bc-884c-a16da219c8bc",
   "metadata": {},
   "outputs": [
    {
     "data": {
      "text/plain": [
       "'Very_Difficult'"
      ]
     },
     "execution_count": 18,
     "metadata": {},
     "output_type": "execute_result"
    }
   ],
   "source": [
    "topic.setdefault(\"Deep_Learning\")"
   ]
  },
  {
   "cell_type": "markdown",
   "id": "ba0ce5b3-9f53-4092-934d-1c5511be862a",
   "metadata": {},
   "source": [
    "Q8. What are the three view objects in dictionaries? Use the three in-built methods in python to display\n",
    "these three view objects for the given dictionary.\n",
    "dict1 = {'Sport': 'Cricket' , 'Teams': ['India', 'Australia', 'England', 'South Africa', 'Sri Lanka', 'New Zealand']}\n",
    "ans. The t"
   ]
  },
  {
   "cell_type": "code",
   "execution_count": 20,
   "id": "dd87cce9-04dc-481b-8568-b8131d17e464",
   "metadata": {},
   "outputs": [
    {
     "data": {
      "text/plain": [
       "{'Sport': 'Cricket',\n",
       " 'Teams': ['India',\n",
       "  'Australia',\n",
       "  'England',\n",
       "  'South Africa',\n",
       "  'Sri Lanka',\n",
       "  'New Zealand']}"
      ]
     },
     "execution_count": 20,
     "metadata": {},
     "output_type": "execute_result"
    }
   ],
   "source": [
    "dict1 = {'Sport': 'Cricket' , 'Teams': ['India', 'Australia', 'England', 'South Africa', 'Sri Lanka', 'New Zealand']}\n",
    "dict1"
   ]
  },
  {
   "cell_type": "code",
   "execution_count": 21,
   "id": "e2b127b7-6b54-40a9-aa14-7ca69c8bf1c8",
   "metadata": {},
   "outputs": [
    {
     "data": {
      "text/plain": [
       "dict_keys(['Sport', 'Teams'])"
      ]
     },
     "execution_count": 21,
     "metadata": {},
     "output_type": "execute_result"
    }
   ],
   "source": [
    "dict1.keys()"
   ]
  },
  {
   "cell_type": "code",
   "execution_count": 23,
   "id": "232aed42-397a-44b2-9aed-670a7ad93a73",
   "metadata": {},
   "outputs": [
    {
     "data": {
      "text/plain": [
       "dict_values(['Cricket', ['India', 'Australia', 'England', 'South Africa', 'Sri Lanka', 'New Zealand']])"
      ]
     },
     "execution_count": 23,
     "metadata": {},
     "output_type": "execute_result"
    }
   ],
   "source": [
    "dict1.values()"
   ]
  },
  {
   "cell_type": "code",
   "execution_count": 22,
   "id": "32e6c72f-017d-4d35-9489-ca6f73410161",
   "metadata": {},
   "outputs": [
    {
     "data": {
      "text/plain": [
       "dict_items([('Sport', 'Cricket'), ('Teams', ['India', 'Australia', 'England', 'South Africa', 'Sri Lanka', 'New Zealand'])])"
      ]
     },
     "execution_count": 22,
     "metadata": {},
     "output_type": "execute_result"
    }
   ],
   "source": [
    "dict1.items()"
   ]
  },
  {
   "cell_type": "code",
   "execution_count": null,
   "id": "4f45077d-8f80-412c-b21c-9f364be6241f",
   "metadata": {},
   "outputs": [],
   "source": []
  },
  {
   "cell_type": "code",
   "execution_count": null,
   "id": "f72675f3-9d19-44a4-b37f-62d39815d2b5",
   "metadata": {},
   "outputs": [],
   "source": []
  },
  {
   "cell_type": "code",
   "execution_count": null,
   "id": "a1491c64-c183-4900-8105-7d5321b035c2",
   "metadata": {},
   "outputs": [],
   "source": []
  },
  {
   "cell_type": "code",
   "execution_count": null,
   "id": "5d95b96d-7eee-42be-809d-d2aecfce0d04",
   "metadata": {},
   "outputs": [],
   "source": []
  },
  {
   "cell_type": "code",
   "execution_count": null,
   "id": "59ef78cf-e065-4632-b5a8-b504d715ef28",
   "metadata": {},
   "outputs": [],
   "source": []
  },
  {
   "cell_type": "code",
   "execution_count": null,
   "id": "0e07369c-068e-4d71-96d2-c1cfacd29fc2",
   "metadata": {},
   "outputs": [],
   "source": []
  },
  {
   "cell_type": "code",
   "execution_count": null,
   "id": "45c18526-8d29-4297-be10-764f970fd827",
   "metadata": {},
   "outputs": [],
   "source": []
  },
  {
   "cell_type": "code",
   "execution_count": null,
   "id": "19f61617-74d7-4e49-aa9e-5ab84d092877",
   "metadata": {},
   "outputs": [],
   "source": []
  },
  {
   "cell_type": "code",
   "execution_count": null,
   "id": "17ef8e94-9b52-4a66-910a-4dd60fb1f42b",
   "metadata": {},
   "outputs": [],
   "source": []
  },
  {
   "cell_type": "code",
   "execution_count": null,
   "id": "2ee4ddc0-e074-4f35-a0cd-cc87b01f9ffe",
   "metadata": {},
   "outputs": [],
   "source": []
  },
  {
   "cell_type": "code",
   "execution_count": null,
   "id": "05f07f81-195d-44aa-b3eb-468911a2f7be",
   "metadata": {},
   "outputs": [],
   "source": []
  },
  {
   "cell_type": "code",
   "execution_count": null,
   "id": "c8aff63c-0a43-47fe-91b8-a407eec5da9a",
   "metadata": {},
   "outputs": [],
   "source": []
  },
  {
   "cell_type": "code",
   "execution_count": null,
   "id": "5824412b-c3eb-422b-a8f1-bb5fc225e15d",
   "metadata": {},
   "outputs": [],
   "source": []
  },
  {
   "cell_type": "code",
   "execution_count": null,
   "id": "8a3f915e-e228-4288-a597-29518b30615c",
   "metadata": {},
   "outputs": [],
   "source": []
  },
  {
   "cell_type": "code",
   "execution_count": null,
   "id": "e30501ca-e762-4646-a4aa-1da8ecf79a04",
   "metadata": {},
   "outputs": [],
   "source": []
  },
  {
   "cell_type": "code",
   "execution_count": null,
   "id": "20c3ace1-18a8-488d-9a23-58d40a4f7dc5",
   "metadata": {},
   "outputs": [],
   "source": []
  },
  {
   "cell_type": "code",
   "execution_count": null,
   "id": "0741d52b-e8cf-4c3b-a79f-9ff230a20186",
   "metadata": {},
   "outputs": [],
   "source": []
  },
  {
   "cell_type": "code",
   "execution_count": null,
   "id": "b3249926-b59c-419c-8140-877a0df78de1",
   "metadata": {},
   "outputs": [],
   "source": []
  },
  {
   "cell_type": "code",
   "execution_count": null,
   "id": "5331dad0-9ac2-47b7-865f-6cebdc07ce02",
   "metadata": {},
   "outputs": [],
   "source": []
  },
  {
   "cell_type": "code",
   "execution_count": null,
   "id": "ae1c184f-e504-4d40-bfe1-8349ad8c998a",
   "metadata": {},
   "outputs": [],
   "source": []
  },
  {
   "cell_type": "code",
   "execution_count": null,
   "id": "09636e8c-2010-4089-a053-8080afc6aaa5",
   "metadata": {},
   "outputs": [],
   "source": []
  },
  {
   "cell_type": "code",
   "execution_count": null,
   "id": "18df4f95-5397-402f-b82a-585212505c5b",
   "metadata": {},
   "outputs": [],
   "source": []
  },
  {
   "cell_type": "code",
   "execution_count": null,
   "id": "6a9edfc5-6e19-4337-be3b-dadecec26327",
   "metadata": {},
   "outputs": [],
   "source": []
  },
  {
   "cell_type": "code",
   "execution_count": null,
   "id": "6d1fdf39-eea5-46dd-ae72-df812806914f",
   "metadata": {},
   "outputs": [],
   "source": []
  },
  {
   "cell_type": "code",
   "execution_count": null,
   "id": "f286f036-b29c-4095-8480-df82e67b2d47",
   "metadata": {},
   "outputs": [],
   "source": []
  }
 ],
 "metadata": {
  "kernelspec": {
   "display_name": "Python 3 (ipykernel)",
   "language": "python",
   "name": "python3"
  },
  "language_info": {
   "codemirror_mode": {
    "name": "ipython",
    "version": 3
   },
   "file_extension": ".py",
   "mimetype": "text/x-python",
   "name": "python",
   "nbconvert_exporter": "python",
   "pygments_lexer": "ipython3",
   "version": "3.10.8"
  }
 },
 "nbformat": 4,
 "nbformat_minor": 5
}
